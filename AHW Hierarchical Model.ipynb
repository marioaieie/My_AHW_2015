{
 "cells": [
  {
   "cell_type": "code",
   "execution_count": 1,
   "metadata": {
    "collapsed": false
   },
   "outputs": [],
   "source": [
    "import scipy as sp\n",
    "import numpy as np\n",
    "import sndatasets\n",
    "import sncosmo\n",
    "import matplotlib as plt\n",
    "\n",
    "%matplotlib inline"
   ]
  },
  {
   "cell_type": "code",
   "execution_count": 2,
   "metadata": {
    "collapsed": false
   },
   "outputs": [
    {
     "data": {
      "text/plain": [
       "\"\\nsne = sndatasets.fetch_hamuy96()\\n\\ndata = sne['1992ae']\\n\\nprint data\\n\""
      ]
     },
     "execution_count": 2,
     "metadata": {},
     "output_type": "execute_result"
    }
   ],
   "source": [
    "\"\"\"\n",
    "sne = sndatasets.fetch_hamuy96()\n",
    "\n",
    "data = sne['1992ae']\n",
    "\n",
    "print data\n",
    "\"\"\""
   ]
  },
  {
   "cell_type": "code",
   "execution_count": 3,
   "metadata": {
    "collapsed": false
   },
   "outputs": [
    {
     "data": {
      "text/plain": [
       "\"\\nmodel = sncosmo.Model(source='salt2')\\nres, fitted_model = sncosmo.fit_lc(data, model, ['z', 't0', 'x0', 'x1', 'c'], bounds={'z':(0.3, 0.7)})\\n\\n#OR if we already knew the redshift...\\n#model.set(z=0.5)  # set the model's redshift.\\n#res, fitted_model = sncosmo.fit_lc(data, model, ['t0', 'x0', 'x1', 'c'])\\n\""
      ]
     },
     "execution_count": 3,
     "metadata": {},
     "output_type": "execute_result"
    }
   ],
   "source": [
    "\"\"\"\n",
    "model = sncosmo.Model(source='salt2')\n",
    "res, fitted_model = sncosmo.fit_lc(data, model, ['z', 't0', 'x0', 'x1', 'c'], bounds={'z':(0.3, 0.7)})\n",
    "\n",
    "#OR if we already knew the redshift...\n",
    "#model.set(z=0.5)  # set the model's redshift.\n",
    "#res, fitted_model = sncosmo.fit_lc(data, model, ['t0', 'x0', 'x1', 'c'])\n",
    "\"\"\""
   ]
  },
  {
   "cell_type": "code",
   "execution_count": 4,
   "metadata": {
    "collapsed": false
   },
   "outputs": [
    {
     "data": {
      "text/plain": [
       "'\\nprint res.keys()\\n\\n#print res.ncall  # number of chi^2 function calls made\\n\\n#print res.ndof  # number of degrees of freedom in fit\\n\\n#print res.chisq  # chi^2 value at minimum\\n\\n#print res.parameters\\n'"
      ]
     },
     "execution_count": 4,
     "metadata": {},
     "output_type": "execute_result"
    }
   ],
   "source": [
    "\"\"\"\n",
    "print res.keys()\n",
    "\n",
    "#print res.ncall  # number of chi^2 function calls made\n",
    "\n",
    "#print res.ndof  # number of degrees of freedom in fit\n",
    "\n",
    "#print res.chisq  # chi^2 value at minimum\n",
    "\n",
    "#print res.parameters\n",
    "\"\"\""
   ]
  },
  {
   "cell_type": "code",
   "execution_count": 5,
   "metadata": {
    "collapsed": false
   },
   "outputs": [],
   "source": [
    "#sncosmo.plot_lc(data, model=fitted_model, errors=res.errors)"
   ]
  },
  {
   "cell_type": "code",
   "execution_count": 6,
   "metadata": {
    "collapsed": false
   },
   "outputs": [
    {
     "name": "stdout",
     "output_type": "stream",
     "text": [
      "[ 23.91680823  24.08601115  24.2980827   24.50728404  21.22083608\n",
      "  23.07273467  24.55520405  22.56099017  24.98374653  24.19451674\n",
      "  26.3294709   23.38206158  24.30781651  22.78373423  24.14699253\n",
      "  22.80891817  23.89313331  24.53624868  24.60868736  21.70179801\n",
      "  24.08185628  24.13480007  22.9020263   22.78830136  24.5190155\n",
      "  23.4936208   24.61772887  23.32310615  23.8622788   25.16065415\n",
      "  25.12096633  25.53044801  25.37465384  21.42078951  24.559321\n",
      "  23.20826137  24.64576326  22.99447113  24.0588088   23.05306831\n",
      "  23.75997298  24.11216501  24.91431336  23.4029289   24.75639659\n",
      "  24.65253614  24.19517874  22.53585397  24.94861324  24.92282491\n",
      "  24.2159408   21.33026432  22.15307924  24.1019423   25.13449863\n",
      "  24.49991087  21.45388259  23.40526448  25.03515138  23.72689469\n",
      "  23.26071126  23.30292223  25.07196227  25.3899938   23.55513872\n",
      "  23.84789749  23.41942247  22.76583012  23.34144294  25.31408342\n",
      "  23.17190263  23.55086782  21.41215151  24.1029374   21.75682825\n",
      "  21.57318556  21.92041305  22.5152668   22.41579761  24.89255622\n",
      "  24.60693035  22.44312046  24.93491642  25.51187161  23.61552639\n",
      "  22.24387322  24.48375292  24.5754975   24.35832935  22.14808082\n",
      "  20.83098566  23.35905605  23.10509614  22.52103044  24.94136388\n",
      "  23.20721793  22.63416761  24.4877402   23.81160283  22.39751859\n",
      "  23.35726597  23.70263061  22.11171113  21.3221837   23.38872608\n",
      "  24.86696106  22.29827375  23.47769373  23.75698215  24.18306002\n",
      "  23.4125516   22.28499675  24.70407746  24.78593133  21.3616293\n",
      "  24.09294699  22.40404462  23.60767368  24.75213221  22.1424585\n",
      "  22.92010974  25.18688931  25.09125709  24.90183224  24.1285532\n",
      "  23.47062993  24.5618253   24.23068911  22.19732383  22.76570454\n",
      "  24.65149349  23.55515298  25.10711923  24.49397946  20.71882172\n",
      "  21.63654027  22.18454677  24.54208438  25.11514422  22.49787688\n",
      "  23.69282701  24.09625794  24.43320152  25.09871276  21.9769824\n",
      "  22.43084901  24.21202597  23.62676869  25.11569605  24.4883009\n",
      "  24.79827373  24.12484291  22.69856246  24.8540652   24.53309634\n",
      "  21.46337587  24.66853751  24.36216286  25.10052311  25.49103806\n",
      "  23.95046262  22.29525322  25.20171715  22.30131803  23.6862237\n",
      "  20.82395838  25.42874668  23.13837082  22.80833162  23.6010708\n",
      "  25.08562353  22.3610457   25.20208113  23.45738382  24.23462219\n",
      "  24.38980261  24.55985718  25.37180033  24.69470854  23.43401556\n",
      "  24.45812882  23.81198322  23.15866042  23.21835159  26.46668031\n",
      "  24.18905096  23.49518087  23.00558494  23.67200225  25.11996831\n",
      "  23.01981077  21.73507826  24.28137386  24.37357521  21.9816418\n",
      "  25.02333253  21.01558154  24.03359818  25.8213507   23.18139253\n",
      "  23.8641115   23.1872494   24.27717723  24.31896973  24.62993585\n",
      "  21.06683559  24.52394783  21.50983176  25.47824873  20.87660891\n",
      "  21.39228176  23.76164776  23.19534163  21.35823522  23.61542632\n",
      "  23.58407678  24.86153299  23.86314101  24.85705622  23.9254281\n",
      "  26.12550958  23.54400987  24.63433417  22.06765795  24.73542764\n",
      "  25.45646908  24.95305916  25.35482003  23.07831535  25.43551605\n",
      "  25.06307257  25.44268215  25.32978114  22.96936569  25.74085367\n",
      "  24.19816625  24.10449056  23.3175552   22.06858971  25.09136631\n",
      "  22.90092399  24.67167653  23.91021221  21.84902986  24.32852755\n",
      "  25.27908361  21.21695967  24.33549638  22.01657049  23.78591624]\n"
     ]
    }
   ],
   "source": [
    "#PLAYING WITH DISTRIBUTIONS\n",
    "#Each simulated dataset has 250 SNe, except the highest-redshift, which has 50.\n",
    "size_we_want = 250\n",
    "\n",
    "#We generate the x1 population from a unit normal distribution, centered on zero.\n",
    "x1_true_dist = np.random.normal(loc=0, scale=1, size=size_we_want)\n",
    "\n",
    "#We assume that the uncertainties on mB, x1, and c are 0.05, 0.5, and 0.05, and are uncorrelated.\n",
    "x1_obs_unc = 0.5*np.ones_like(x1_true_dist)\n",
    "\n",
    "x1_obs_dist = x1_true_dist + x1_obs_unc*np.random.normal(loc=0, scale=1, size=size_we_want)\n",
    "\n",
    "#We draw the population c values from the sum of a Gaussian distribution of width 0.1 magnitudes\n",
    "#and an exponential with rate 1/(0.1 magnitudes). We center the distribution on zero.\n",
    "#\\beta is the scale parameter, which is the inverse of the rate parameter \\lambda = 1/\\beta. \n",
    "#The rate parameter is an alternative, widely used parameterization of the exponential distribution [R193].\n",
    "c_true_norm = np.random.normal(loc=0, scale=0.1, size=size_we_want)\n",
    "c_true_exp = np.random.exponential(scale=0.1/1, size=size_we_want)\n",
    "c_true_dist = np.add(c_true_norm, c_true_exp)\n",
    "\n",
    "c_obs_unc = 0.5*np.ones_like(c_true_dist)\n",
    "\n",
    "c_obs_dist = c_true_dist + c_obs_unc*np.random.normal(loc=0, scale=1, size=size_we_want)\n",
    "\n",
    "#We generate four simulated datasets spanning the redshift ranges 0.02–0.05, \n",
    "#0.05–0.4, 0.2–1.0, and 0.7–1.4 \n",
    "##We're just doing one set for now.\n",
    "z_dist = np.random.uniform(0.2, 1.0, size=size_we_want)\n",
    "\n",
    "#α and β are assumed to be constant, with values 0.13 and 3.0, respectively. MB is set to −19.1 and\n",
    "#Ωm is set to 0.3 (flat ΛCDM model).\n",
    "alpha = 0.13\n",
    "beta = 3.0\n",
    "MB = -19.1\n",
    "Omega_m = 0.3\n",
    "sigma_int = 0.15\n",
    "\n",
    "#Calculating mu values from z and Omega_m\n",
    "from astropy.cosmology import FlatLambdaCDM\n",
    "cosmo = FlatLambdaCDM(H0=70, Om0=Omega_m)\n",
    "mu_dist = cosmo.distmod(z_dist).value\n",
    "#print mu_dist\n",
    "\n",
    "#We assume that the intrinsic dispersion covariance matrix is correct in SALT2, and that only dispersion\n",
    "#in mB (gray dispersion) remains. The statistical model does not have access to this information,\n",
    "#and fits for the full unknown matrix, overestimating the uncertainties on x1 and c, and thus slightly\n",
    "#biasing α and β away from zero (see Section 2.5). (This is not a unique problem for our framework;\n",
    "#the old technique would have the same bias.)\n",
    "##Come back to this?\n",
    "\n",
    "mb_true_dist = MB - alpha*x1_true_dist + beta*c_true_dist + mu_dist + np.random.normal(loc=0, scale=sigma_int, size=size_we_want)\n",
    " \n",
    "mb_obs_unc = 0.05*np.ones_like(mb_true_dist)\n",
    "\n",
    "mb_obs_dist = mb_true_dist + mb_obs_unc*np.random.normal(loc=0, scale=1, size=size_we_want)\n",
    "\n",
    "print mb_obs_dist"
   ]
  },
  {
   "cell_type": "code",
   "execution_count": null,
   "metadata": {
    "collapsed": true
   },
   "outputs": [],
   "source": []
  },
  {
   "cell_type": "code",
   "execution_count": null,
   "metadata": {
    "collapsed": true
   },
   "outputs": [],
   "source": []
  }
 ],
 "metadata": {
  "kernelspec": {
   "display_name": "Python 2",
   "language": "python",
   "name": "python2"
  },
  "language_info": {
   "codemirror_mode": {
    "name": "ipython",
    "version": 2
   },
   "file_extension": ".py",
   "mimetype": "text/x-python",
   "name": "python",
   "nbconvert_exporter": "python",
   "pygments_lexer": "ipython2",
   "version": "2.7.10"
  }
 },
 "nbformat": 4,
 "nbformat_minor": 0
}
