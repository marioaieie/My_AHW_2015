{
 "cells": [
  {
   "cell_type": "markdown",
   "metadata": {},
   "source": [
    "#Bayesian SN Cosmology"
   ]
  },
  {
   "cell_type": "markdown",
   "metadata": {},
   "source": [
    "[Rubin et al. 2015](http://arxiv.org/abs/1507.01602) lays out a pretty complete Bayesian model for going from light curve parameters for a large, heterogeneous set of SNe to inferred cosmological parameters. However, it has a couple deficiencies: (1) There's no publicly available code, meaning that the model cannot be modified and improved. (2) The implementation runs slowly (timescale of days). In this hack, we'll start on an open-source package implementing the model and seeing if we can take advantage of aspects of the problem to make it run a whole lot faster."
   ]
  },
  {
   "cell_type": "markdown",
   "metadata": {},
   "source": [
    "##Simplistic Model"
   ]
  },
  {
   "cell_type": "code",
   "execution_count": 90,
   "metadata": {
    "collapsed": false
   },
   "outputs": [],
   "source": [
    "import scipy\n",
    "import numpy as np\n",
    "import sncosmo\n",
    "import daft\n",
    "import matplotlib as plt\n",
    "from astropy.cosmology import FlatLambdaCDM\n",
    "\n",
    "%matplotlib inline"
   ]
  },
  {
   "cell_type": "code",
   "execution_count": 127,
   "metadata": {
    "collapsed": false
   },
   "outputs": [
    {
     "data": {
      "image/png": "[encoded data removed]",
      "text/plain": [
       "<matplotlib.figure.Figure at 0x10a580ed0>"
      ]
     },
     "metadata": {},
     "output_type": "display_data"
    }
   ],
   "source": [
    "from matplotlib import rc\n",
    "rc(\"font\", family=\"serif\", size=12)\n",
    "rc(\"text\", usetex=True)\n",
    "\n",
    "pgm = daft.PGM([9, 5], origin=[-1.5, 1])\n",
    "pgm.add_node(daft.Node(\"alpha\", r\"${\\alpha}$\", 2.3, 5))\n",
    "pgm.add_node(daft.Node(\"beta\", r\"${\\beta}$\", 3.1, 5))\n",
    "pgm.add_node(daft.Node(\"Mb\", r\"$M_{B}$\", 3.9, 5))\n",
    "pgm.add_node(daft.Node(\"sigma\", r\"${\\sigma_{\\mathrm{int}}}$\", 4.7, 5))\n",
    "pgm.add_node(daft.Node(\"Omega\", r\"$\\Omega$\", 0, 4))\n",
    "pgm.add_node(daft.Node(\"mu\", r\"$\\mu_{k}$\", 1.05, 4, fixed=True))\n",
    "pgm.add_node(daft.Node(\"mbtrue\", r\"$m^{\\mathrm{true}}_{B,k}$\", 3.5, 4))\n",
    "pgm.add_node(daft.Node(\"mbobs\", r\"$m^{\\mathrm{obs}}_{B,k}$\", 5, 4, observed=True))\n",
    "pgm.add_node(daft.Node(\"ctrue\", r\"$c^{\\mathrm{true}}_{k}$\", 3.1, 3.3))\n",
    "pgm.add_node(daft.Node(\"xtrue\", r\"$x^{\\mathrm{true}}_{1,k}$\", 3.9, 3.3))\n",
    "pgm.add_node(daft.Node(\"cobs\", r\"$c^{\\mathrm{obs}}_{k}$\", 2.5, 2.6, observed=True))\n",
    "pgm.add_node(daft.Node(\"xobs\", r\"$x^{\\mathrm{obs}}_{1,k}$\", 4.5, 2.6, observed=True))\n",
    "pgm.add_node(daft.Node(\"cdist\", r\"$c^{\\mathrm{dist}}$\", 3.1, 1.6, fixed=True, offset=(0,-25)))\n",
    "pgm.add_node(daft.Node(\"xdist\", r\"$x^{\\mathrm{dist}}$\", 3.9, 1.6, fixed=True, offset=(0,-25)))\n",
    "pgm.add_node(daft.Node(\"z\", r\"$z_k$\", 1.05, 3, observed=True))\n",
    "pgm.add_plate(daft.Plate([0.5, 2.15, 5, 2.3],\n",
    "        label=r\"supernovae $k$\"))\n",
    "pgm.add_edge(\"alpha\", \"mbtrue\")\n",
    "pgm.add_edge(\"beta\", \"mbtrue\")\n",
    "pgm.add_edge(\"Mb\", \"mbtrue\")\n",
    "pgm.add_edge(\"sigma\", \"mbtrue\")\n",
    "pgm.add_edge(\"Omega\", \"mu\")\n",
    "pgm.add_edge(\"mu\", \"mbtrue\")\n",
    "pgm.add_edge(\"mbtrue\", \"mbobs\")\n",
    "pgm.add_edge(\"ctrue\", \"mbtrue\")\n",
    "pgm.add_edge(\"xtrue\", \"mbtrue\")\n",
    "pgm.add_edge(\"ctrue\", \"cobs\")\n",
    "pgm.add_edge(\"xtrue\", \"xobs\")\n",
    "pgm.add_edge(\"cdist\", \"ctrue\")\n",
    "pgm.add_edge(\"xdist\", \"xtrue\")\n",
    "pgm.add_edge(\"z\", \"mu\")\n",
    "pgm.render()\n",
    "#pgm.figure.savefig(\"bayesianSNcosmology.pdf\")\n",
    "pgm.figure.savefig(\"bayesianSNcosmology.png\", dpi=200)"
   ]
  },
  {
   "cell_type": "markdown",
   "metadata": {},
   "source": [
    "<img src=\"bayesianSNcosmology.png\" style=\"width: 7in;\">"
   ]
  },
  {
   "cell_type": "code",
   "execution_count": 92,
   "metadata": {
    "collapsed": false
   },
   "outputs": [
    {
     "data": {
      "text/plain": [
       "'\\nclass variable(object):\\n    \\n    \\'\\'\\'Random variables: they have names, values, and can be histogrammed.\\'\\'\\'\\n    \\n    def __init__(self,names):\\n        self.names = np.atleast_1d(names)\\n        self.Ndim = len(self.names)\\n        self.values = np.zeros(self.Ndim,)\\n        return\\n    \\n    def __str__(self):\\n        return string.join(self.names,\\',\\')\\n    \\n    def histogram(self):\\n        print \"Histograms coming soon!\"\\n        return\\n'"
      ]
     },
     "execution_count": 92,
     "metadata": {},
     "output_type": "execute_result"
    }
   ],
   "source": [
    "\"\"\"\n",
    "class variable(object):\n",
    "    \n",
    "    '''Random variables: they have names, values, and can be histogrammed.'''\n",
    "    \n",
    "    def __init__(self,names):\n",
    "        self.names = np.atleast_1d(names)\n",
    "        self.Ndim = len(self.names)\n",
    "        self.values = np.zeros(self.Ndim,)\n",
    "        return\n",
    "    \n",
    "    def __str__(self):\n",
    "        return string.join(self.names,',')\n",
    "    \n",
    "    def histogram(self):\n",
    "        print \"Histograms coming soon!\"\n",
    "        return\n",
    "\"\"\""
   ]
  },
  {
   "cell_type": "code",
   "execution_count": null,
   "metadata": {
    "collapsed": true
   },
   "outputs": [],
   "source": []
  },
  {
   "cell_type": "code",
   "execution_count": 93,
   "metadata": {
    "collapsed": false
   },
   "outputs": [
    {
     "data": {
      "text/plain": [
       "'\\nclass probability(object):\\n    \\n    \\'\\'\\'Conditional probability distribution, Pr(A|B). \\n       The value of this PDF at a particular A is a \"probability density.\"\\n       Evaluating the density as a function of B gives the \"likelihood\".\\'\\'\\'\\n\\n    def __init__(self,of=None,given=None,assumptions=None):\\n\\n        # We must have defined our dependent and independent variables,\\n        # and one cannot do inference without making assumptions:\\n        assert assumptions is not None\\n        assert of is not None\\n        assert given is not None\\n        \\n        self.assumptions = assumptions  # stored as a dictionary\\n        self.A = of                     # a list of variables\\n        self.B = given                  # another list of variables\\n        \\n        return\\n    \\n    def __str__(self):\\n        return \"$Pr({A}|{B})$\".format(A=str(self.A), B=str(self.B))\\n        \\n    def draw(self,N):\\n        \\'\\'\\'Draw N sample values of A, given B and our assumptions.\\'\\'\\'\\n        self.samples = generator(N,self.assumptions,self.B)\\n        return\\n    \\n    def evaluate(self):\\n        return density(self.A,self.B,assumptions)\\n'"
      ]
     },
     "execution_count": 93,
     "metadata": {},
     "output_type": "execute_result"
    }
   ],
   "source": [
    "\"\"\"\n",
    "class probability(object):\n",
    "    \n",
    "    '''Conditional probability distribution, Pr(A|B). \n",
    "       The value of this PDF at a particular A is a \"probability density.\"\n",
    "       Evaluating the density as a function of B gives the \"likelihood\".'''\n",
    "\n",
    "    def __init__(self,of=None,given=None,assumptions=None):\n",
    "\n",
    "        # We must have defined our dependent and independent variables,\n",
    "        # and one cannot do inference without making assumptions:\n",
    "        assert assumptions is not None\n",
    "        assert of is not None\n",
    "        assert given is not None\n",
    "        \n",
    "        self.assumptions = assumptions  # stored as a dictionary\n",
    "        self.A = of                     # a list of variables\n",
    "        self.B = given                  # another list of variables\n",
    "        \n",
    "        return\n",
    "    \n",
    "    def __str__(self):\n",
    "        return \"$Pr({A}|{B})$\".format(A=str(self.A), B=str(self.B))\n",
    "        \n",
    "    def draw(self,N):\n",
    "        '''Draw N sample values of A, given B and our assumptions.'''\n",
    "        self.samples = generator(N,self.assumptions,self.B)\n",
    "        return\n",
    "    \n",
    "    def evaluate(self):\n",
    "        return density(self.A,self.B,assumptions)\n",
    "\"\"\""
   ]
  },
  {
   "cell_type": "code",
   "execution_count": 94,
   "metadata": {
    "collapsed": false
   },
   "outputs": [
    {
     "data": {
      "text/plain": [
       "'\\ndef generator(N,model,parameters):\\n    #if distribution is Gaussian\\n    #else if mixture\\n    return None\\n'"
      ]
     },
     "execution_count": 94,
     "metadata": {},
     "output_type": "execute_result"
    }
   ],
   "source": [
    "\"\"\"\n",
    "def generator(N,model,parameters):\n",
    "    #if distribution is Gaussian\n",
    "    #else if mixture\n",
    "    return None\n",
    "\"\"\""
   ]
  },
  {
   "cell_type": "code",
   "execution_count": 95,
   "metadata": {
    "collapsed": false
   },
   "outputs": [
    {
     "data": {
      "text/plain": [
       "'\\ndef density(N,model,parameters):\\n    if \"Sampling coming soon!\"\\n    return None\\n'"
      ]
     },
     "execution_count": 95,
     "metadata": {},
     "output_type": "execute_result"
    }
   ],
   "source": [
    "\"\"\"\n",
    "def density(N,model,parameters):\n",
    "    if \"Sampling coming soon!\"\n",
    "    return None\n",
    "\"\"\""
   ]
  },
  {
   "cell_type": "code",
   "execution_count": 96,
   "metadata": {
    "collapsed": false
   },
   "outputs": [
    {
     "data": {
      "text/plain": [
       "\"parameters = variable(['mu','sigma'])\\nI = {'functional_form':'Gaussian'}\\npdf = probability(of=data,given=parameters,assumptions=I)\\nprint pdf\\n\""
      ]
     },
     "execution_count": 96,
     "metadata": {},
     "output_type": "execute_result"
    }
   ],
   "source": [
    "\"\"\"parameters = variable(['mu','sigma'])\n",
    "I = {'functional_form':'Gaussian'}\n",
    "pdf = probability(of=data,given=parameters,assumptions=I)\n",
    "print pdf\n",
    "\"\"\""
   ]
  },
  {
   "cell_type": "markdown",
   "metadata": {},
   "source": [
    "##Assigning Probability Distributions"
   ]
  },
  {
   "cell_type": "markdown",
   "metadata": {},
   "source": [
    "This is mostly just following the Rubin et al. 2015 explanation, quoted below..."
   ]
  },
  {
   "cell_type": "markdown",
   "metadata": {},
   "source": [
    "\"Each simulated dataset has 250 SNe, except the highest-redshift, which has 50.\""
   ]
  },
  {
   "cell_type": "code",
   "execution_count": 97,
   "metadata": {
    "collapsed": true
   },
   "outputs": [],
   "source": [
    "size_we_want = 250"
   ]
  },
  {
   "cell_type": "markdown",
   "metadata": {},
   "source": [
    "\"We generate the $x_{1}$ population from a unit normal distribution, centered on zero.\""
   ]
  },
  {
   "cell_type": "code",
   "execution_count": 98,
   "metadata": {
    "collapsed": false
   },
   "outputs": [
    {
     "data": {
      "text/plain": [
       "<scipy.stats._distn_infrastructure.rv_frozen at 0x10b726450>"
      ]
     },
     "execution_count": 98,
     "metadata": {},
     "output_type": "execute_result"
    }
   ],
   "source": [
    "x1_eval_pts = np.linspace(-5,5,num=size_we_want)\n",
    "\n",
    "x1_dist = stats.norm(loc=0, scale=1)\n",
    "x1_true_draw = x1_dist.rvs(size_we_want)\n",
    "x1_true_eval = x1_dist.pdf(x1_eval_pts)\n",
    "x1_dist"
   ]
  },
  {
   "cell_type": "markdown",
   "metadata": {},
   "source": [
    "\"We assume that the uncertainties on $m_B$, $x_{1}$, and $c$ are 0.05, 0.5, and 0.05, and are uncorrelated.\""
   ]
  },
  {
   "cell_type": "code",
   "execution_count": 99,
   "metadata": {
    "collapsed": false
   },
   "outputs": [],
   "source": [
    "x1_obs_unc = 0.5*np.ones_like(size_we_want)\n",
    "\n",
    "x1_obs_draw = x1_true_draw + x1_obs_unc*x1_true_draw\n",
    "x1_obs_eval = x1_true_eval + x1_obs_unc*x1_true_eval"
   ]
  },
  {
   "cell_type": "markdown",
   "metadata": {},
   "source": [
    "\"We draw the population $c$ values from the sum of a Gaussian distribution of width 0.1 magnitudes and an exponential with rate 1/(0.1 magnitudes). We center the distribution on zero.\" $\\beta$ is the scale parameter, which is the inverse of the rate parameter $\\lambda = 1/\\beta$.  The rate parameter is an alternative, widely used parameterization of the exponential distribution."
   ]
  },
  {
   "cell_type": "code",
   "execution_count": 100,
   "metadata": {
    "collapsed": false
   },
   "outputs": [],
   "source": [
    "\"\"\"\n",
    "x1_eval_pts = np.linspace(-5,5,num=size_we_want)\n",
    "\n",
    "x1_true = stats.norm(loc=0, scale=1)\n",
    "x1_true_draw = x1_true.rvs(size_we_want)\n",
    "x1_true_eval = x1_true.pdf(x1_eval_pts)\n",
    "\n",
    "\"\"\"\n",
    "\n",
    "c_true = stats.norm(loc=0, scale=1)\n",
    "c_true_draw = c_true.rvs(size_we_want)\n",
    "c_true_eval = c_true.pdf(x1_eval_pts)\n",
    "\n",
    "c_obs_unc = 0.5*np.ones_like(size_we_want)\n",
    "\n",
    "c_obs_draw = c_true_draw + c_obs_unc*c_true_draw\n",
    "c_obs_eval = c_true_eval + c_obs_unc*c_true_eval"
   ]
  },
  {
   "cell_type": "markdown",
   "metadata": {},
   "source": [
    "\"We generate four simulated datasets spanning the redshift ranges 0.02-0.05, 0.05-0.4, 0.2-1.0, and 0.7-1.4.\" We're just doing one set for now, from 0.2-1.0."
   ]
  },
  {
   "cell_type": "code",
   "execution_count": 101,
   "metadata": {
    "collapsed": false
   },
   "outputs": [],
   "source": [
    "z = np.random.uniform(0.2, 1.0, size=size_we_want)"
   ]
  },
  {
   "cell_type": "markdown",
   "metadata": {},
   "source": [
    "$\\alpha$ and $\\beta$ are assumed to be constant, with values 0.13 and 3.0, respectively. $M_{B}$ is set to -19.1 and $\\Omega_{m}$ is set to 0.3 (flat $\\Lambda \\text{CDM}$ model)."
   ]
  },
  {
   "cell_type": "code",
   "execution_count": 102,
   "metadata": {
    "collapsed": true
   },
   "outputs": [],
   "source": [
    "alpha = 0.13\n",
    "beta = 3.0\n",
    "MB = -19.1\n",
    "Omega_m = 0.3\n",
    "sigma_int = 0.15"
   ]
  },
  {
   "cell_type": "markdown",
   "metadata": {},
   "source": [
    "We calculated the $\\mu$ values using astropy.cosmology.lambdacdm()."
   ]
  },
  {
   "cell_type": "code",
   "execution_count": 103,
   "metadata": {
    "collapsed": true
   },
   "outputs": [],
   "source": [
    "cosmo = FlatLambdaCDM(H0=70, Om0=Omega_m)\n",
    "\n",
    "mu = cosmo.distmod(z).value\n",
    "\n",
    "#mu = np.histogram(mu_draw)\n",
    "\n",
    "#mu_eval = ??"
   ]
  },
  {
   "cell_type": "markdown",
   "metadata": {},
   "source": [
    "\"We assume that the intrinsic dispersion covariance matrix is correct in SALT2, and that only dispersion in $m_{B}$ (gray dispersion) remains. The statistical model does not have access to this information, and fits for the full unknown matrix, overestimating the uncertainties on $x_{1}$ and $c$, and thus slightly biasing $\\alpha$ and $\\beta$ away from zero (see Section 2.5). (This is not a unique problem for our framework; the old technique would have the same bias.)\" We might come back to this but for now we just solved for $m_{B} = M_{B} - {\\alpha}x_{1} + {\\beta}{c} + \\mu$ and introduced some scatter."
   ]
  },
  {
   "cell_type": "code",
   "execution_count": 104,
   "metadata": {
    "collapsed": false
   },
   "outputs": [],
   "source": [
    "mb_true_draw = MB - alpha*x1_true_draw + beta*c_true_draw + mu + np.random.normal(loc=0, scale=sigma_int, size=size_we_want)"
   ]
  },
  {
   "cell_type": "markdown",
   "metadata": {
    "collapsed": false
   },
   "source": [
    "## Simple Monte Carlo Inference\n",
    "\n",
    "If we were making mock data, we would do the following:\n",
    "\n",
    "```python\n",
    "    mb_obs_unc = 0.05*np.ones_like(mb_true_dist)\n",
    "\n",
    "    mb_obs_dist = mb_true_dist + mb_obs_unc*np.random.normal(loc=0, scale=1, size=size_we_want)\n",
    "```\n",
    "\n",
    "However, right now we're going to get set up to do inference by Simple Monte Carlo: weight each sample by its parameters likelihood, and approximate posterior integrals with likelihood-weighted sums over prior samples."
   ]
  },
  {
   "cell_type": "code",
   "execution_count": 105,
   "metadata": {
    "collapsed": false
   },
   "outputs": [
    {
     "data": {
      "text/html": [
       "<div>\n",
       "<table border=\"1\" class=\"dataframe\">\n",
       "  <thead>\n",
       "    <tr style=\"text-align: right;\">\n",
       "      <th></th>\n",
       "      <th>x1_true</th>\n",
       "      <th>c_true</th>\n",
       "      <th>mb_true</th>\n",
       "      <th>alpha</th>\n",
       "      <th>beta</th>\n",
       "      <th>MB</th>\n",
       "      <th>Omega_m</th>\n",
       "      <th>sigma_int</th>\n",
       "    </tr>\n",
       "  </thead>\n",
       "  <tbody>\n",
       "    <tr>\n",
       "      <th>0</th>\n",
       "      <td>1</td>\n",
       "      <td>1</td>\n",
       "      <td>1</td>\n",
       "      <td>1</td>\n",
       "      <td>1</td>\n",
       "      <td>1</td>\n",
       "      <td>1</td>\n",
       "      <td>1</td>\n",
       "    </tr>\n",
       "    <tr>\n",
       "      <th>1</th>\n",
       "      <td>1</td>\n",
       "      <td>1</td>\n",
       "      <td>1</td>\n",
       "      <td>1</td>\n",
       "      <td>1</td>\n",
       "      <td>1</td>\n",
       "      <td>1</td>\n",
       "      <td>1</td>\n",
       "    </tr>\n",
       "    <tr>\n",
       "      <th>2</th>\n",
       "      <td>1</td>\n",
       "      <td>1</td>\n",
       "      <td>1</td>\n",
       "      <td>1</td>\n",
       "      <td>1</td>\n",
       "      <td>1</td>\n",
       "      <td>1</td>\n",
       "      <td>1</td>\n",
       "    </tr>\n",
       "    <tr>\n",
       "      <th>3</th>\n",
       "      <td>1</td>\n",
       "      <td>1</td>\n",
       "      <td>1</td>\n",
       "      <td>1</td>\n",
       "      <td>1</td>\n",
       "      <td>1</td>\n",
       "      <td>1</td>\n",
       "      <td>1</td>\n",
       "    </tr>\n",
       "    <tr>\n",
       "      <th>4</th>\n",
       "      <td>1</td>\n",
       "      <td>1</td>\n",
       "      <td>1</td>\n",
       "      <td>1</td>\n",
       "      <td>1</td>\n",
       "      <td>1</td>\n",
       "      <td>1</td>\n",
       "      <td>1</td>\n",
       "    </tr>\n",
       "    <tr>\n",
       "      <th>5</th>\n",
       "      <td>1</td>\n",
       "      <td>1</td>\n",
       "      <td>1</td>\n",
       "      <td>1</td>\n",
       "      <td>1</td>\n",
       "      <td>1</td>\n",
       "      <td>1</td>\n",
       "      <td>1</td>\n",
       "    </tr>\n",
       "    <tr>\n",
       "      <th>6</th>\n",
       "      <td>1</td>\n",
       "      <td>1</td>\n",
       "      <td>1</td>\n",
       "      <td>1</td>\n",
       "      <td>1</td>\n",
       "      <td>1</td>\n",
       "      <td>1</td>\n",
       "      <td>1</td>\n",
       "    </tr>\n",
       "    <tr>\n",
       "      <th>7</th>\n",
       "      <td>1</td>\n",
       "      <td>1</td>\n",
       "      <td>1</td>\n",
       "      <td>1</td>\n",
       "      <td>1</td>\n",
       "      <td>1</td>\n",
       "      <td>1</td>\n",
       "      <td>1</td>\n",
       "    </tr>\n",
       "    <tr>\n",
       "      <th>8</th>\n",
       "      <td>1</td>\n",
       "      <td>1</td>\n",
       "      <td>1</td>\n",
       "      <td>1</td>\n",
       "      <td>1</td>\n",
       "      <td>1</td>\n",
       "      <td>1</td>\n",
       "      <td>1</td>\n",
       "    </tr>\n",
       "    <tr>\n",
       "      <th>9</th>\n",
       "      <td>1</td>\n",
       "      <td>1</td>\n",
       "      <td>1</td>\n",
       "      <td>1</td>\n",
       "      <td>1</td>\n",
       "      <td>1</td>\n",
       "      <td>1</td>\n",
       "      <td>1</td>\n",
       "    </tr>\n",
       "  </tbody>\n",
       "</table>\n",
       "</div>"
      ],
      "text/plain": [
       "   x1_true  c_true  mb_true  alpha  beta  MB  Omega_m  sigma_int\n",
       "0        1       1        1      1     1   1        1          1\n",
       "1        1       1        1      1     1   1        1          1\n",
       "2        1       1        1      1     1   1        1          1\n",
       "3        1       1        1      1     1   1        1          1\n",
       "4        1       1        1      1     1   1        1          1\n",
       "5        1       1        1      1     1   1        1          1\n",
       "6        1       1        1      1     1   1        1          1\n",
       "7        1       1        1      1     1   1        1          1\n",
       "8        1       1        1      1     1   1        1          1\n",
       "9        1       1        1      1     1   1        1          1"
      ]
     },
     "execution_count": 105,
     "metadata": {},
     "output_type": "execute_result"
    }
   ],
   "source": [
    "# Let's package up the parameters, ML-style:\n",
    "\n",
    "import pandas as pd\n",
    "\n",
    "#par_labels = ['x1_true', 'x1_obs', 'c_true', 'c_obs', 'mb_true', 'mb_obs', 'alpha', 'beta', 'Mb', 'Omega', 'z', 'x1_dist', 'c_dist', 'sigma_int']\n",
    "par_labels = ['x1_true', 'c_true', 'mb_true', 'alpha', 'beta', 'MB', 'Omega_m', 'sigma_int']\n",
    "\n",
    "#pd.Series([1,3,5], index=['x1_true']) for i in nrange\n",
    "#x1_obs = pd.Series([2,4,6], index=['x1_obs'])\n",
    "\n",
    "#SN = [ pd.Series(np.ones(len(par_labels)),index=par_labels) for i in range(4)]\n",
    "#print parameters\n",
    "\n",
    "#datafr = pd.DataFrame(SN)\n",
    "datafr = pd.DataFrame(np.ones((10,len(par_labels))),columns=par_labels)\n",
    "datafr\n",
    "#SN[0]"
   ]
  },
  {
   "cell_type": "code",
   "execution_count": 106,
   "metadata": {
    "collapsed": false
   },
   "outputs": [
    {
     "ename": "ValueError",
     "evalue": "operands could not be broadcast together with shapes (10,) (250,) ",
     "output_type": "error",
     "traceback": [
      "\u001b[0;31m---------------------------------------------------------------------------\u001b[0m",
      "\u001b[0;31mValueError\u001b[0m                                Traceback (most recent call last)",
      "\u001b[0;32m<ipython-input-106-30b709157469>\u001b[0m in \u001b[0;36m<module>\u001b[0;34m()\u001b[0m\n\u001b[1;32m     19\u001b[0m     \u001b[0mdatafr\u001b[0m\u001b[0;34m[\u001b[0m\u001b[0;34m'c_true'\u001b[0m\u001b[0;34m]\u001b[0m \u001b[0;34m=\u001b[0m \u001b[0mscipy\u001b[0m\u001b[0;34m.\u001b[0m\u001b[0mstats\u001b[0m\u001b[0;34m.\u001b[0m\u001b[0mnorm\u001b[0m\u001b[0;34m.\u001b[0m\u001b[0mrvs\u001b[0m\u001b[0;34m(\u001b[0m\u001b[0msize\u001b[0m\u001b[0;34m=\u001b[0m\u001b[0mnSN\u001b[0m\u001b[0;34m)\u001b[0m\u001b[0;34m\u001b[0m\u001b[0m\n\u001b[1;32m     20\u001b[0m \u001b[0;34m\u001b[0m\u001b[0m\n\u001b[0;32m---> 21\u001b[0;31m     \u001b[0mmb_true\u001b[0m \u001b[0;34m=\u001b[0m \u001b[0mdatafr\u001b[0m\u001b[0;34m[\u001b[0m\u001b[0;34m'MB'\u001b[0m\u001b[0;34m]\u001b[0m \u001b[0;34m-\u001b[0m \u001b[0mdatafr\u001b[0m\u001b[0;34m[\u001b[0m\u001b[0;34m'alpha'\u001b[0m\u001b[0;34m]\u001b[0m\u001b[0;34m*\u001b[0m\u001b[0mdatafr\u001b[0m\u001b[0;34m[\u001b[0m\u001b[0;34m'x1_true'\u001b[0m\u001b[0;34m]\u001b[0m \u001b[0;34m+\u001b[0m \u001b[0mdatafr\u001b[0m\u001b[0;34m[\u001b[0m\u001b[0;34m'beta'\u001b[0m\u001b[0;34m]\u001b[0m\u001b[0;34m*\u001b[0m\u001b[0mdatafr\u001b[0m\u001b[0;34m[\u001b[0m\u001b[0;34m'c_true'\u001b[0m\u001b[0;34m]\u001b[0m \u001b[0;34m+\u001b[0m \u001b[0mmu\u001b[0m\u001b[0;34m\u001b[0m\u001b[0m\n\u001b[0m\u001b[1;32m     22\u001b[0m     \u001b[0mlikelihood_mobs\u001b[0m \u001b[0;34m=\u001b[0m \u001b[0mLogGaussian\u001b[0m\u001b[0;34m(\u001b[0m\u001b[0mmb_obs\u001b[0m\u001b[0;34m,\u001b[0m \u001b[0mmb_true\u001b[0m\u001b[0;34m,\u001b[0m \u001b[0mdatafr\u001b[0m\u001b[0;34m[\u001b[0m\u001b[0;34m'sigma_int'\u001b[0m\u001b[0;34m]\u001b[0m\u001b[0;34m**\u001b[0m\u001b[0;36m2\u001b[0m\u001b[0;34m)\u001b[0m\u001b[0;34m\u001b[0m\u001b[0m\n\u001b[1;32m     23\u001b[0m \u001b[0;34m\u001b[0m\u001b[0m\n",
      "\u001b[0;32m/Users/Rebecca/anaconda/lib/python2.7/site-packages/pandas/core/ops.pyc\u001b[0m in \u001b[0;36mwrapper\u001b[0;34m(left, right, name)\u001b[0m\n\u001b[1;32m    530\u001b[0m             \u001b[0;32mif\u001b[0m \u001b[0mhasattr\u001b[0m\u001b[0;34m(\u001b[0m\u001b[0mlvalues\u001b[0m\u001b[0;34m,\u001b[0m \u001b[0;34m'values'\u001b[0m\u001b[0;34m)\u001b[0m\u001b[0;34m:\u001b[0m\u001b[0;34m\u001b[0m\u001b[0m\n\u001b[1;32m    531\u001b[0m                 \u001b[0mlvalues\u001b[0m \u001b[0;34m=\u001b[0m \u001b[0mlvalues\u001b[0m\u001b[0;34m.\u001b[0m\u001b[0mvalues\u001b[0m\u001b[0;34m\u001b[0m\u001b[0m\n\u001b[0;32m--> 532\u001b[0;31m             return left._constructor(wrap_results(na_op(lvalues, rvalues)),\n\u001b[0m\u001b[1;32m    533\u001b[0m                                      \u001b[0mindex\u001b[0m\u001b[0;34m=\u001b[0m\u001b[0mleft\u001b[0m\u001b[0;34m.\u001b[0m\u001b[0mindex\u001b[0m\u001b[0;34m,\u001b[0m \u001b[0mname\u001b[0m\u001b[0;34m=\u001b[0m\u001b[0mleft\u001b[0m\u001b[0;34m.\u001b[0m\u001b[0mname\u001b[0m\u001b[0;34m,\u001b[0m\u001b[0;34m\u001b[0m\u001b[0m\n\u001b[1;32m    534\u001b[0m                                      dtype=dtype)\n",
      "\u001b[0;32m/Users/Rebecca/anaconda/lib/python2.7/site-packages/pandas/core/ops.pyc\u001b[0m in \u001b[0;36mna_op\u001b[0;34m(x, y)\u001b[0m\n\u001b[1;32m    467\u001b[0m         \u001b[0;32mtry\u001b[0m\u001b[0;34m:\u001b[0m\u001b[0;34m\u001b[0m\u001b[0m\n\u001b[1;32m    468\u001b[0m             result = expressions.evaluate(op, str_rep, x, y,\n\u001b[0;32m--> 469\u001b[0;31m                                           raise_on_error=True, **eval_kwargs)\n\u001b[0m\u001b[1;32m    470\u001b[0m         \u001b[0;32mexcept\u001b[0m \u001b[0mTypeError\u001b[0m\u001b[0;34m:\u001b[0m\u001b[0;34m\u001b[0m\u001b[0m\n\u001b[1;32m    471\u001b[0m             \u001b[0;32mif\u001b[0m \u001b[0misinstance\u001b[0m\u001b[0;34m(\u001b[0m\u001b[0my\u001b[0m\u001b[0;34m,\u001b[0m \u001b[0;34m(\u001b[0m\u001b[0mnp\u001b[0m\u001b[0;34m.\u001b[0m\u001b[0mndarray\u001b[0m\u001b[0;34m,\u001b[0m \u001b[0mpd\u001b[0m\u001b[0;34m.\u001b[0m\u001b[0mSeries\u001b[0m\u001b[0;34m,\u001b[0m \u001b[0mpd\u001b[0m\u001b[0;34m.\u001b[0m\u001b[0mIndex\u001b[0m\u001b[0;34m)\u001b[0m\u001b[0;34m)\u001b[0m\u001b[0;34m:\u001b[0m\u001b[0;34m\u001b[0m\u001b[0m\n",
      "\u001b[0;32m/Users/Rebecca/anaconda/lib/python2.7/site-packages/pandas/computation/expressions.pyc\u001b[0m in \u001b[0;36mevaluate\u001b[0;34m(op, op_str, a, b, raise_on_error, use_numexpr, **eval_kwargs)\u001b[0m\n\u001b[1;32m    216\u001b[0m     \u001b[0;32mif\u001b[0m \u001b[0muse_numexpr\u001b[0m\u001b[0;34m:\u001b[0m\u001b[0;34m\u001b[0m\u001b[0m\n\u001b[1;32m    217\u001b[0m         return _evaluate(op, op_str, a, b, raise_on_error=raise_on_error,\n\u001b[0;32m--> 218\u001b[0;31m                          **eval_kwargs)\n\u001b[0m\u001b[1;32m    219\u001b[0m     \u001b[0;32mreturn\u001b[0m \u001b[0m_evaluate_standard\u001b[0m\u001b[0;34m(\u001b[0m\u001b[0mop\u001b[0m\u001b[0;34m,\u001b[0m \u001b[0mop_str\u001b[0m\u001b[0;34m,\u001b[0m \u001b[0ma\u001b[0m\u001b[0;34m,\u001b[0m \u001b[0mb\u001b[0m\u001b[0;34m,\u001b[0m \u001b[0mraise_on_error\u001b[0m\u001b[0;34m=\u001b[0m\u001b[0mraise_on_error\u001b[0m\u001b[0;34m)\u001b[0m\u001b[0;34m\u001b[0m\u001b[0m\n\u001b[1;32m    220\u001b[0m \u001b[0;34m\u001b[0m\u001b[0m\n",
      "\u001b[0;32m/Users/Rebecca/anaconda/lib/python2.7/site-packages/pandas/computation/expressions.pyc\u001b[0m in \u001b[0;36m_evaluate_numexpr\u001b[0;34m(op, op_str, a, b, raise_on_error, truediv, reversed, **eval_kwargs)\u001b[0m\n\u001b[1;32m    127\u001b[0m \u001b[0;34m\u001b[0m\u001b[0m\n\u001b[1;32m    128\u001b[0m     \u001b[0;32mif\u001b[0m \u001b[0mresult\u001b[0m \u001b[0;32mis\u001b[0m \u001b[0mNone\u001b[0m\u001b[0;34m:\u001b[0m\u001b[0;34m\u001b[0m\u001b[0m\n\u001b[0;32m--> 129\u001b[0;31m         \u001b[0mresult\u001b[0m \u001b[0;34m=\u001b[0m \u001b[0m_evaluate_standard\u001b[0m\u001b[0;34m(\u001b[0m\u001b[0mop\u001b[0m\u001b[0;34m,\u001b[0m \u001b[0mop_str\u001b[0m\u001b[0;34m,\u001b[0m \u001b[0ma\u001b[0m\u001b[0;34m,\u001b[0m \u001b[0mb\u001b[0m\u001b[0;34m,\u001b[0m \u001b[0mraise_on_error\u001b[0m\u001b[0;34m)\u001b[0m\u001b[0;34m\u001b[0m\u001b[0m\n\u001b[0m\u001b[1;32m    130\u001b[0m \u001b[0;34m\u001b[0m\u001b[0m\n\u001b[1;32m    131\u001b[0m     \u001b[0;32mreturn\u001b[0m \u001b[0mresult\u001b[0m\u001b[0;34m\u001b[0m\u001b[0m\n",
      "\u001b[0;32m/Users/Rebecca/anaconda/lib/python2.7/site-packages/pandas/computation/expressions.pyc\u001b[0m in \u001b[0;36m_evaluate_standard\u001b[0;34m(op, op_str, a, b, raise_on_error, **eval_kwargs)\u001b[0m\n\u001b[1;32m     69\u001b[0m     \u001b[0;32mif\u001b[0m \u001b[0m_TEST_MODE\u001b[0m\u001b[0;34m:\u001b[0m\u001b[0;34m\u001b[0m\u001b[0m\n\u001b[1;32m     70\u001b[0m         \u001b[0m_store_test_result\u001b[0m\u001b[0;34m(\u001b[0m\u001b[0mFalse\u001b[0m\u001b[0;34m)\u001b[0m\u001b[0;34m\u001b[0m\u001b[0m\n\u001b[0;32m---> 71\u001b[0;31m     \u001b[0;32mreturn\u001b[0m \u001b[0mop\u001b[0m\u001b[0;34m(\u001b[0m\u001b[0ma\u001b[0m\u001b[0;34m,\u001b[0m \u001b[0mb\u001b[0m\u001b[0;34m)\u001b[0m\u001b[0;34m\u001b[0m\u001b[0m\n\u001b[0m\u001b[1;32m     72\u001b[0m \u001b[0;34m\u001b[0m\u001b[0m\n\u001b[1;32m     73\u001b[0m \u001b[0;34m\u001b[0m\u001b[0m\n",
      "\u001b[0;31mValueError\u001b[0m: operands could not be broadcast together with shapes (10,) (250,) "
     ]
    }
   ],
   "source": [
    "N = 2\n",
    "nSN = 10\n",
    "cosmo = FlatLambdaCDM(H0=70, Om0=Omega_m)\n",
    "mu = cosmo.distmod(z).value\n",
    "\n",
    "def LogGaussian(x,mu,sig):\n",
    "    \n",
    "    return -0.5*(x-mu)**2 /sig**2\n",
    "\n",
    "schain = []\n",
    "for i in range(N):\n",
    "    datafr = pd.DataFrame(np.ones((nSN,len(par_labels))),columns=par_labels)\n",
    "    datafr['alpha'] = scipy.stats.norm.rvs()\n",
    "    datafr['beta'] = scipy.stats.norm.rvs()\n",
    "    datafr['MB'] = scipy.stats.norm.rvs()\n",
    "    datafr['sigma_int'] = scipy.stats.norm.rvs()\n",
    "    datafr['Omega_m'] = scipy.stats.norm.rvs()\n",
    "    datafr['x1_true'] = scipy.stats.norm.rvs(size=nSN)\n",
    "    datafr['c_true'] = scipy.stats.norm.rvs(size=nSN)\n",
    "\n",
    "    mb_true = datafr['MB'] - datafr['alpha']*datafr['x1_true'] + datafr['beta']*datafr['c_true'] + mu\n",
    "    likelihood_mobs = LogGaussian(mb_obs, mb_true, datafr['sigma_int']**2)\n",
    "\n",
    "    likelihood_x1 = LogGaussian(x1_obs, datafr['x1_true'], 0.5**2)\n",
    "\n",
    "    likelihood_c = LogGaussian(c_obs, datafr['c_true'], 0.5**2)\n",
    "\n",
    "    likelihood = np.sum([likelihood_mobs, likelihood_x1, likelihood_c])\n",
    "    \n",
    "    schain.append(datafr[['mb_true', 'alpha', 'beta', 'MB', 'Omega_m', 'sigma_int']])"
   ]
  },
  {
   "cell_type": "code",
   "execution_count": null,
   "metadata": {
    "collapsed": false
   },
   "outputs": [],
   "source": [
    "schain = []\n",
    "schain.append(datafr[['mb_true', 'alpha', 'beta', 'MB', 'Omega_m', 'sigma_int']])"
   ]
  },
  {
   "cell_type": "code",
   "execution_count": null,
   "metadata": {
    "collapsed": true
   },
   "outputs": [],
   "source": [
    "params = dict(par_labels)"
   ]
  },
  {
   "cell_type": "code",
   "execution_count": null,
   "metadata": {
    "collapsed": true
   },
   "outputs": [],
   "source": [
    "import scipy.stats\n",
    "datafr['alpha'] = scipy.stats.norm.rvs()\n",
    "datafr"
   ]
  },
  {
   "cell_type": "code",
   "execution_count": null,
   "metadata": {
    "collapsed": true
   },
   "outputs": [],
   "source": [
    "datafr = datafr.apply(lambda x: np.random.normal(size=x.size))"
   ]
  },
  {
   "cell_type": "code",
   "execution_count": null,
   "metadata": {
    "collapsed": true
   },
   "outputs": [],
   "source": [
    "datafr.describe()"
   ]
  },
  {
   "cell_type": "code",
   "execution_count": null,
   "metadata": {
    "collapsed": true
   },
   "outputs": [],
   "source": [
    "def likelihood(parameters):\n",
    "    L = 1.0 # for now...\n",
    "    return L  "
   ]
  },
  {
   "cell_type": "code",
   "execution_count": null,
   "metadata": {
    "collapsed": true
   },
   "outputs": [],
   "source": [
    "def weight_by_likelihood(parameters):\n",
    "    #  Set likelihood column of parameters:\n",
    "    parameters['weight'] = likelihood(parameters)\n",
    "    return parameters"
   ]
  },
  {
   "cell_type": "code",
   "execution_count": null,
   "metadata": {
    "collapsed": true
   },
   "outputs": [],
   "source": [
    "weight_by_likelihood(datafr);"
   ]
  },
  {
   "cell_type": "code",
   "execution_count": null,
   "metadata": {
    "collapsed": true
   },
   "outputs": [],
   "source": [
    "plt.figure()\n",
    "plt.hist(datafr['Omega'],histtype='stepfilled',normed=True)\n",
    "plt.hist(np.random.normal(size=1e4),histtype='step',color='r',normed=True)"
   ]
  }
 ],
 "metadata": {
  "kernelspec": {
   "display_name": "Python 2",
   "language": "python",
   "name": "python2"
  },
  "language_info": {
   "codemirror_mode": {
    "name": "ipython",
    "version": 2
   },
   "file_extension": ".py",
   "mimetype": "text/x-python",
   "name": "python",
   "nbconvert_exporter": "python",
   "pygments_lexer": "ipython2",
   "version": "2.7.10"
  }
 },
 "nbformat": 4,
 "nbformat_minor": 0
}
